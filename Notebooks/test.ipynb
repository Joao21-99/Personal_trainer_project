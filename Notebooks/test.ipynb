{
 "cells": [
  {
   "cell_type": "code",
   "execution_count": 2,
   "metadata": {},
   "outputs": [
    {
     "data": {
      "text/html": [
       "<div>\n",
       "<style scoped>\n",
       "    .dataframe tbody tr th:only-of-type {\n",
       "        vertical-align: middle;\n",
       "    }\n",
       "\n",
       "    .dataframe tbody tr th {\n",
       "        vertical-align: top;\n",
       "    }\n",
       "\n",
       "    .dataframe thead th {\n",
       "        text-align: right;\n",
       "    }\n",
       "</style>\n",
       "<table border=\"1\" class=\"dataframe\">\n",
       "  <thead>\n",
       "    <tr style=\"text-align: right;\">\n",
       "      <th></th>\n",
       "      <th>ID</th>\n",
       "      <th>NOME</th>\n",
       "      <th>TELEMOVEL</th>\n",
       "      <th>MORADA</th>\n",
       "      <th>CARTAO DE CIDADAO</th>\n",
       "      <th>DATA DE NASCIMENTO</th>\n",
       "      <th>NIVEL</th>\n",
       "      <th>LIMITACOES</th>\n",
       "    </tr>\n",
       "  </thead>\n",
       "  <tbody>\n",
       "    <tr>\n",
       "      <th>0</th>\n",
       "      <td>1</td>\n",
       "      <td>Ricardo</td>\n",
       "      <td>926724965</td>\n",
       "      <td>Rua Quinta do Mirante nº2 3ºesq</td>\n",
       "      <td>17223712</td>\n",
       "      <td>19/2/1992</td>\n",
       "      <td>BÁSICO</td>\n",
       "      <td>nenhumas</td>\n",
       "    </tr>\n",
       "    <tr>\n",
       "      <th>1</th>\n",
       "      <td>2</td>\n",
       "      <td>Bruno</td>\n",
       "      <td>917281921</td>\n",
       "      <td>rua franciso</td>\n",
       "      <td>91821212</td>\n",
       "      <td>3/3/1999</td>\n",
       "      <td>MÉDIO</td>\n",
       "      <td>nenhumas</td>\n",
       "    </tr>\n",
       "  </tbody>\n",
       "</table>\n",
       "</div>"
      ],
      "text/plain": [
       "   ID     NOME  TELEMOVEL                           MORADA  CARTAO DE CIDADAO  \\\n",
       "0   1  Ricardo  926724965  Rua Quinta do Mirante nº2 3ºesq           17223712   \n",
       "1   2    Bruno  917281921                     rua franciso           91821212   \n",
       "\n",
       "  DATA DE NASCIMENTO   NIVEL LIMITACOES  \n",
       "0          19/2/1992  BÁSICO   nenhumas  \n",
       "1           3/3/1999   MÉDIO   nenhumas  "
      ]
     },
     "execution_count": 2,
     "metadata": {},
     "output_type": "execute_result"
    }
   ],
   "source": [
    "import pandas as pd\n",
    "df = pd.read_json('../dados.json')\n",
    "df.head()"
   ]
  }
 ],
 "metadata": {
  "kernelspec": {
   "display_name": "My_study",
   "language": "python",
   "name": "python3"
  },
  "language_info": {
   "codemirror_mode": {
    "name": "ipython",
    "version": 3
   },
   "file_extension": ".py",
   "mimetype": "text/x-python",
   "name": "python",
   "nbconvert_exporter": "python",
   "pygments_lexer": "ipython3",
   "version": "3.11.7"
  }
 },
 "nbformat": 4,
 "nbformat_minor": 2
}
